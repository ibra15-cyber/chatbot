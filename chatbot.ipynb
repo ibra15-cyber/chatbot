{
  "cells": [
    {
      "cell_type": "markdown",
      "metadata": {
        "id": "view-in-github",
        "colab_type": "text"
      },
      "source": [
        "<a href=\"https://colab.research.google.com/github/ibra15-cyber/chatbot/blob/master/chatbot.ipynb\" target=\"_parent\"><img src=\"https://colab.research.google.com/assets/colab-badge.svg\" alt=\"Open In Colab\"/></a>"
      ]
    },
    {
      "cell_type": "code",
      "execution_count": null,
      "metadata": {
        "id": "5qeN1AY_mY5t"
      },
      "outputs": [],
      "source": [
        "import numpy as np\n",
        "import nltk\n",
        "import string\n",
        "import random"
      ]
    },
    {
      "cell_type": "code",
      "execution_count": null,
      "metadata": {
        "id": "LsZEZqwKi8Uk"
      },
      "outputs": [],
      "source": []
    },
    {
      "cell_type": "code",
      "execution_count": null,
      "metadata": {
        "colab": {
          "base_uri": "https://localhost:8080/"
        },
        "id": "Yt2w4indmpdK",
        "outputId": "867581db-6203-4781-b0d8-d1805c5e2398"
      },
      "outputs": [
        {
          "name": "stderr",
          "output_type": "stream",
          "text": [
            "[nltk_data] Downloading package punkt to /root/nltk_data...\n",
            "[nltk_data]   Package punkt is already up-to-date!\n",
            "[nltk_data] Downloading package wordnet to /root/nltk_data...\n",
            "[nltk_data]   Package wordnet is already up-to-date!\n"
          ]
        }
      ],
      "source": [
        "# f=open(\"chatbot.txt\", \"r\", errors=\"ignore\")\n",
        "# raw_doc = f.read()\n",
        "\n",
        "#using a website\n",
        "import requests\n",
        "from bs4 import BeautifulSoup\n",
        "url = \"https://en.wikipedia.org/wiki/\"\n",
        "r = requests.get(url)\n",
        "soup = BeautifulSoup(r.content, 'html.parser')\n",
        "raw_doc = soup.get_text()\n",
        "\n",
        "raw_doc=raw_doc.lower()\n",
        "nltk.download(\"punkt\")\n",
        "nltk.download(\"wordnet\")\n",
        "sent_tokens = nltk.sent_tokenize(raw_doc)\n",
        "word_tokens = nltk.word_tokenize(raw_doc)"
      ]
    },
    {
      "cell_type": "code",
      "execution_count": null,
      "metadata": {
        "colab": {
          "base_uri": "https://localhost:8080/"
        },
        "id": "U3LonRIempZ6",
        "outputId": "115a19d3-33af-4b52-b26d-37f76ea2292b"
      },
      "outputs": [
        {
          "data": {
            "text/plain": [
              "['\\n\\n\\n\\ndata science - wikipedia\\n\\n\\n\\n\\n\\n\\n\\n\\n\\n\\n\\n\\n\\n\\n\\n\\n\\n\\n\\n\\n\\n\\n\\n\\n\\n\\n\\n\\n\\n\\n\\n\\n\\n\\n\\n\\n\\n\\njump to content\\n\\n\\n\\n\\n\\ntoggle sidebar\\n\\n\\n\\n\\n\\n\\n\\n\\n\\n\\n\\n\\nsearch\\n\\n\\n\\n\\n\\n\\n\\n\\n\\n\\n\\n\\n\\n\\n\\ncreate accountlog in\\n\\n\\n\\n\\n\\n\\npersonal tools\\n\\n\\n\\n\\n create account log in\\n\\n\\n\\n\\n\\t\\tpages for logged out editors learn more\\n\\n\\ncontributionstalk\\n\\n\\n\\n\\n\\n\\n\\n\\n\\n\\n\\n\\n\\nnavigation\\n\\n\\nmain pagecontentscurrent eventsrandom articleabout wikipediacontact usdonate\\n\\n\\n\\n\\ncontribute\\n\\n\\nhelplearn to editcommunity portalrecent changesupload file\\n\\n\\n\\n\\ntools\\n\\n\\nwhat links hererelated changesupload filespecial pagespermanent linkpage informationcite this pagewikidata item\\n\\n\\n\\n\\nprint/export\\n\\n\\ndownload as pdfprintable version\\n\\n\\n\\n\\nin other projects\\n\\n\\nwikimedia commonswikiversity\\n\\n\\n\\n\\nlanguages\\n\\non this wikipedia the language links are at the top of the page across from the article title.',\n",
              " 'go to top.']"
            ]
          },
          "execution_count": 128,
          "metadata": {},
          "output_type": "execute_result"
        }
      ],
      "source": [
        "sent_tokens[:2]"
      ]
    },
    {
      "cell_type": "code",
      "execution_count": null,
      "metadata": {
        "id": "F6ZYCnhbmpXp"
      },
      "outputs": [],
      "source": [
        "lemmer = nltk.stem.WordNetLemmatizer()\n",
        "def LemTokens(tokens):\n",
        "  return [lemmer.lemmatize(token) for token in tokens]\n",
        "\n",
        "remove_punct_dict = dict((ord(punct), None) for punct in string.punctuation)\n",
        "def LemNormalize(text):\n",
        "  return LemTokens(nltk.word_tokenize(text.lower().translate(remove_punct_dict)))"
      ]
    },
    {
      "cell_type": "code",
      "execution_count": null,
      "metadata": {
        "id": "FJmapYAMqeYv"
      },
      "outputs": [],
      "source": [
        "GREET_INPUTS = (\"hello\", \"hi\", \"greetings\", \"sup\", \"what's up\", \"hey\")\n",
        "GREETING_RESPONSES = [\"hi\", \"hey\", \"*nods\", \"hi there\", \"hello\", \"i am glad! you are taling about me\"]\n",
        "def greet(sentence):\n",
        "  for word in sentence.split():\n",
        "    if word.lower() in GREET_INPUTS:\n",
        "      return random.choice(GREETING_RESPONSES)"
      ]
    },
    {
      "cell_type": "code",
      "execution_count": null,
      "metadata": {
        "id": "zH4maKNMrwDg"
      },
      "outputs": [],
      "source": [
        "from sklearn.feature_extraction.text import TfidfVectorizer\n",
        "from sklearn.metrics.pairwise import cosine_similarity "
      ]
    },
    {
      "cell_type": "code",
      "execution_count": null,
      "metadata": {
        "id": "wElZzq7T8iBR"
      },
      "outputs": [],
      "source": [
        "def response(user_response):\n",
        "  robol_response=\"\"\n",
        "  TfidfVec=TfidfVectorizer(tokenizer=LemNormalize, stop_words='english')\n",
        "  tfidf = TfidfVec.fit_transform(sent_tokens)\n",
        "  vals = cosine_similarity(tfidf[-1], tfidf)\n",
        "  idx=vals.argsort()[0][-2]\n",
        "  flat= vals.flatten()\n",
        "  flat.sort()\n",
        "  req_tfidf=flat[-2]\n",
        "  if(req_tfidf==0):\n",
        "    robol_response+ \"I am sorry! I don't understand you\"\n",
        "    return robol_response\n",
        "  else:\n",
        "    robol_response = robol_response + sent_tokens[idx]\n",
        "    return robol_response"
      ]
    },
    {
      "cell_type": "code",
      "execution_count": null,
      "metadata": {
        "id": "6fJhVUisWSWR"
      },
      "outputs": [],
      "source": []
    },
    {
      "cell_type": "code",
      "execution_count": null,
      "metadata": {
        "colab": {
          "background_save": true,
          "base_uri": "https://localhost:8080/"
        },
        "id": "lxmaDUMIJMO9",
        "outputId": "05e5afcb-71a0-4a0b-acb8-0e9c43b62052"
      },
      "outputs": [
        {
          "name": "stdout",
          "output_type": "stream",
          "text": [
            "BOT: my name is Stack. Let's have a conversation! Also, if you want to exit nay time, just type Bye!\n",
            "BOT: \"what is data science?\n",
            "BOT: wikipedia® is a registered trademark of the wikimedia foundation, inc., a non-profit organization.\n",
            "BOT: \"what is data science?\n"
          ]
        }
      ],
      "source": [
        "flag=True \n",
        "print(\"BOT: my name is Stack. Let's have a conversation! Also, if you want to exit nay time, just type Bye!\")\n",
        "while(flag==True):\n",
        "  user_response = input()\n",
        "  user_response=user_response.lower()\n",
        "  if(user_response!='bye'):\n",
        "    if(user_response==\"thanks\" or user_response==\"thank you\"):\n",
        "      flag=False\n",
        "      print(\"BOT: You are welcome...\")\n",
        "    else:\n",
        "      if(greet(user_response)!=None):\n",
        "        print(\"BOT: \" + greet(user_response))\n",
        "      else:\n",
        "        sent_tokens.append(user_response)\n",
        "        word_tokens=word_tokens+nltk.word_tokenize(user_response)\n",
        "        final_words=list(set(word_tokens))\n",
        "        print(\"BOT: \", end='')\n",
        "        print(response(user_response))\n",
        "        sent_tokens.remove(user_response)\n",
        "  else:\n",
        "    flag=False\n",
        "    print(\"BOT: Goodbye! Take care <3 \")\n"
      ]
    },
    {
      "cell_type": "markdown",
      "metadata": {
        "id": "qxzrqk6F-Hrm"
      },
      "source": []
    }
  ],
  "metadata": {
    "colab": {
      "provenance": [],
      "authorship_tag": "ABX9TyNsxGHfAzvBmCzHwYUI6mAq",
      "include_colab_link": true
    },
    "kernelspec": {
      "display_name": "Python 3",
      "name": "python3"
    },
    "language_info": {
      "name": "python"
    }
  },
  "nbformat": 4,
  "nbformat_minor": 0
}